{
 "cells": [
  {
   "cell_type": "code",
   "execution_count": 34,
   "metadata": {},
   "outputs": [],
   "source": [
    "import pandas as pd\n",
    "import numpy as np\n",
    "import matplotlib.pyplot as plt"
   ]
  },
  {
   "cell_type": "code",
   "execution_count": 35,
   "metadata": {},
   "outputs": [
    {
     "data": {
      "text/html": [
       "<div>\n",
       "<style scoped>\n",
       "    .dataframe tbody tr th:only-of-type {\n",
       "        vertical-align: middle;\n",
       "    }\n",
       "\n",
       "    .dataframe tbody tr th {\n",
       "        vertical-align: top;\n",
       "    }\n",
       "\n",
       "    .dataframe thead th {\n",
       "        text-align: right;\n",
       "    }\n",
       "</style>\n",
       "<table border=\"1\" class=\"dataframe\">\n",
       "  <thead>\n",
       "    <tr style=\"text-align: right;\">\n",
       "      <th></th>\n",
       "      <th>Outlook</th>\n",
       "      <th>Temperature</th>\n",
       "      <th>Humidity</th>\n",
       "      <th>Windy</th>\n",
       "      <th>Decision</th>\n",
       "    </tr>\n",
       "  </thead>\n",
       "  <tbody>\n",
       "    <tr>\n",
       "      <td>0</td>\n",
       "      <td>sunny</td>\n",
       "      <td>hot</td>\n",
       "      <td>high</td>\n",
       "      <td>weak</td>\n",
       "      <td>N</td>\n",
       "    </tr>\n",
       "    <tr>\n",
       "      <td>1</td>\n",
       "      <td>sunny</td>\n",
       "      <td>hot</td>\n",
       "      <td>high</td>\n",
       "      <td>storng</td>\n",
       "      <td>N</td>\n",
       "    </tr>\n",
       "    <tr>\n",
       "      <td>2</td>\n",
       "      <td>overcast</td>\n",
       "      <td>hot</td>\n",
       "      <td>high</td>\n",
       "      <td>weak</td>\n",
       "      <td>P</td>\n",
       "    </tr>\n",
       "    <tr>\n",
       "      <td>3</td>\n",
       "      <td>rain</td>\n",
       "      <td>mild</td>\n",
       "      <td>high</td>\n",
       "      <td>weak</td>\n",
       "      <td>P</td>\n",
       "    </tr>\n",
       "    <tr>\n",
       "      <td>4</td>\n",
       "      <td>rain</td>\n",
       "      <td>cool</td>\n",
       "      <td>normal</td>\n",
       "      <td>weak</td>\n",
       "      <td>P</td>\n",
       "    </tr>\n",
       "    <tr>\n",
       "      <td>5</td>\n",
       "      <td>rain</td>\n",
       "      <td>cool</td>\n",
       "      <td>normal</td>\n",
       "      <td>storng</td>\n",
       "      <td>N</td>\n",
       "    </tr>\n",
       "    <tr>\n",
       "      <td>6</td>\n",
       "      <td>overcast</td>\n",
       "      <td>cool</td>\n",
       "      <td>normal</td>\n",
       "      <td>storng</td>\n",
       "      <td>P</td>\n",
       "    </tr>\n",
       "    <tr>\n",
       "      <td>7</td>\n",
       "      <td>sunny</td>\n",
       "      <td>mild</td>\n",
       "      <td>high</td>\n",
       "      <td>weak</td>\n",
       "      <td>N</td>\n",
       "    </tr>\n",
       "    <tr>\n",
       "      <td>8</td>\n",
       "      <td>sunny</td>\n",
       "      <td>cool</td>\n",
       "      <td>normal</td>\n",
       "      <td>weak</td>\n",
       "      <td>P</td>\n",
       "    </tr>\n",
       "    <tr>\n",
       "      <td>9</td>\n",
       "      <td>rain</td>\n",
       "      <td>mild</td>\n",
       "      <td>normal</td>\n",
       "      <td>weak</td>\n",
       "      <td>P</td>\n",
       "    </tr>\n",
       "    <tr>\n",
       "      <td>10</td>\n",
       "      <td>sunny</td>\n",
       "      <td>mild</td>\n",
       "      <td>normal</td>\n",
       "      <td>storng</td>\n",
       "      <td>P</td>\n",
       "    </tr>\n",
       "    <tr>\n",
       "      <td>11</td>\n",
       "      <td>overcast</td>\n",
       "      <td>mild</td>\n",
       "      <td>high</td>\n",
       "      <td>storng</td>\n",
       "      <td>P</td>\n",
       "    </tr>\n",
       "    <tr>\n",
       "      <td>12</td>\n",
       "      <td>overcast</td>\n",
       "      <td>hot</td>\n",
       "      <td>normal</td>\n",
       "      <td>weak</td>\n",
       "      <td>P</td>\n",
       "    </tr>\n",
       "    <tr>\n",
       "      <td>13</td>\n",
       "      <td>rain</td>\n",
       "      <td>mild</td>\n",
       "      <td>high</td>\n",
       "      <td>storng</td>\n",
       "      <td>N</td>\n",
       "    </tr>\n",
       "  </tbody>\n",
       "</table>\n",
       "</div>"
      ],
      "text/plain": [
       "     Outlook Temperature Humidity   Windy Decision\n",
       "0      sunny         hot     high    weak        N\n",
       "1      sunny         hot     high  storng        N\n",
       "2   overcast         hot     high    weak        P\n",
       "3       rain        mild     high    weak        P\n",
       "4       rain        cool   normal    weak        P\n",
       "5       rain        cool   normal  storng        N\n",
       "6   overcast        cool   normal  storng        P\n",
       "7      sunny        mild     high    weak        N\n",
       "8      sunny        cool   normal    weak        P\n",
       "9       rain        mild   normal    weak        P\n",
       "10     sunny        mild   normal  storng        P\n",
       "11  overcast        mild     high  storng        P\n",
       "12  overcast         hot   normal    weak        P\n",
       "13      rain        mild     high  storng        N"
      ]
     },
     "execution_count": 35,
     "metadata": {},
     "output_type": "execute_result"
    }
   ],
   "source": [
    "df = pd.DataFrame()\n",
    "df['Outlook'] = [\n",
    "    'sunny','sunny','overcast','rain','rain','rain','overcast','sunny','sunny','rain','sunny','overcast','overcast','rain'\n",
    "]\n",
    "df['Temperature'] = ['hot','hot','hot','mild','cool','cool','cool',\n",
    "                     'mild','cool','mild','mild','mild','hot','mild'\n",
    "]\n",
    "df['Humidity'] = ['high','high','high','high','normal','normal','normal','high',\n",
    "                  'normal','normal','normal','high','normal','high'\n",
    "]\n",
    "df['Windy'] = ['weak','storng','weak','weak','weak','storng','storng',\n",
    "               'weak','weak','weak','storng','storng','weak','storng'\n",
    "]\n",
    "df['Decision'] = ['N','N','P','P','P','N','P','N','P','P','P','P','P','N'\n",
    "]\n",
    "df"
   ]
  },
  {
   "cell_type": "code",
   "execution_count": 39,
   "metadata": {},
   "outputs": [
    {
     "name": "stdout",
     "output_type": "stream",
     "text": [
      "H(S)=0.9403\n"
     ]
    }
   ],
   "source": [
    "p_p = len(df.loc[df.Decision ==  'P']) / len(df)\n",
    "p_n = len(df.loc[df.Decision == 'N']) /len(df)\n",
    "\n",
    "entropy_decision = -p_n * np.log2(p_n) - p_p * np.log2(p_p)\n",
    "print(f'H(S)={entropy_desicion:0.4f}')"
   ]
  },
  {
   "cell_type": "code",
   "execution_count": 40,
   "metadata": {},
   "outputs": [],
   "source": [
    "def f_entropy_Decision(data):\n",
    "    p_p = len(data.loc[df.Decision ==  'P']) / len(data)\n",
    "    p_n = len(data.loc[df.Decision == 'N']) /len(data)\n",
    "    return -p_n * np.log2(p_n) - p_p * np.log2(p_p)\n"
   ]
  },
  {
   "cell_type": "code",
   "execution_count": 41,
   "metadata": {},
   "outputs": [
    {
     "name": "stdout",
     "output_type": "stream",
     "text": [
      "p(Decition=P|Outlook=overcast) = 4/4\n",
      "p(Decition=N|Outlook=overcast) = 4/4\n",
      "Outlook=overcast) = 4/14\n",
      "Entropy(Decision|Outlook=overcast) =-4/4.log2(4/4) - 4/4.log2(4/4)\n",
      "\n",
      "p(Decition=P|Outlook=rain) = 3/5\n",
      "p(Decition=N|Outlook=rain) = 3/5\n",
      "Outlook=rain) = 5/14\n",
      "Entropy(Decision|Outlook=rain) =-3/5.log2(3/5) - 3/5.log2(3/5)\n",
      "\n",
      "p(Decition=P|Outlook=sunny) = 2/5\n",
      "p(Decition=N|Outlook=sunny) = 2/5\n",
      "Outlook=sunny) = 5/14\n",
      "Entropy(Decision|Outlook=sunny) =-2/5.log2(2/5) - 2/5.log2(2/5)\n",
      "\n",
      "Gain(Decition, Outlook) = Entropy(Decition) - p(Outlook=overcast).Entropy(Decision|Outlook=overcast) - p(Outlook=rain).Entropy(Decision|Outlook=rain) - p(Outlook=sunny).Entropy(Decision|Outlook=sunny)\n",
      "Gain(Decision,Outlook) = 0.2467\n"
     ]
    }
   ],
   "source": [
    "IG_decision_Outlook = entropy_decision\n",
    "overall_eqn = 'Gain(Decition, Outlook) = Entropy(Decition)'\n",
    "\n",
    "for name, Outlook in df.groupby('Outlook'):\n",
    "    num_p = len(Outlook.loc[Outlook.Decision == 'P'])\n",
    "    num_n = len(Outlook.loc[Outlook.Decision != 'N'])\n",
    "    num_Outlook = len(Outlook)\n",
    "    print(f'p(Decition=P|Outlook={name}) = {num_p}/{num_Outlook}')\n",
    "    print(f'p(Decition=N|Outlook={name}) = {num_n}/{num_Outlook}')\n",
    "    print(f'Outlook={name}) = {num_Outlook}/{len(df)}')\n",
    "    print(f'Entropy(Decision|Outlook={name}) ='\\\n",
    "          f'-{num_p}/{num_Outlook}.log2({num_p}/{num_Outlook}) - '\\\n",
    "          f'{num_n}/{num_Outlook}.log2({num_n}/{num_Outlook})')\n",
    "    entropy_decision_outlook = 0\n",
    "    \n",
    "    if num_p != 0:\n",
    "        entropy_decision_outlook -= (num_p / num_Outlook) \\\n",
    "            * np.log2(num_p / num_Outlook)\n",
    "        \n",
    "    if num_n != 0:\n",
    "        entropy_decision_outlook -= (num_n / num_Outlook) \\\n",
    "            * np.log2(num_n / num_Outlook)\n",
    "    \n",
    "    IG_decision_Outlook -= (num_Outlook / len(df)) * entropy_decision_outlook\n",
    "    print()\n",
    "    overall_eqn += f' - p(Outlook={name}).'\n",
    "    overall_eqn += f'Entropy(Decision|Outlook={name})'\n",
    "print(overall_eqn)\n",
    "print(f'Gain(Decision,Outlook) = {IG_decision_Outlook:0.4f}')"
   ]
  },
  {
   "cell_type": "code",
   "execution_count": 42,
   "metadata": {},
   "outputs": [],
   "source": [
    "def IG(data, column, ent_decision = entropy_desicion):\n",
    "    IG_decision = ent_decision\n",
    "    for name, temp in data.groupby(column):\n",
    "        p_p = len(temp.loc[temp.Decision == 'P']) / len(temp)\n",
    "        p_n = len(temp.loc[temp.Decision != 'P']) / len(temp)\n",
    "        \n",
    "        entropy_decision = 0\n",
    "        \n",
    "        if p_p !=0:\n",
    "            entropy_decision -= (p_p) * np.log2(p_p)\n",
    "            \n",
    "        if p_n !=0:\n",
    "            entropy_decision -= (p_n) * np.log2(p_n)\n",
    "            \n",
    "        IG_decision -= (len(temp)) / len(df) * entropy_decision\n",
    "    return IG_decision"
   ]
  },
  {
   "cell_type": "code",
   "execution_count": 43,
   "metadata": {},
   "outputs": [
    {
     "name": "stdout",
     "output_type": "stream",
     "text": [
      "Gain(Decision, Outlook) = 0.2467\n",
      "Gain(Decision, Temperature) = 0.0292\n",
      "Gain(Decision, Humidity) = 0.1518\n",
      "Gain(Decision, Windy) = 0.0481\n"
     ]
    }
   ],
   "source": [
    "for col in df.columns[:-1]:\n",
    "    print(f'Gain(Decision, {col}) = {IG(df, col):0.4f}')"
   ]
  },
  {
   "cell_type": "code",
   "execution_count": 44,
   "metadata": {},
   "outputs": [
    {
     "name": "stdout",
     "output_type": "stream",
     "text": [
      "---------------\n",
      "overcast\n",
      "---------------\n",
      "     Outlook Temperature Humidity   Windy Decision\n",
      "2   overcast         hot     high    weak        P\n",
      "6   overcast        cool   normal  storng        P\n",
      "11  overcast        mild     high  storng        P\n",
      "12  overcast         hot   normal    weak        P\n",
      "---------------\n",
      "---------------\n",
      "rain\n",
      "---------------\n",
      "   Outlook Temperature Humidity   Windy Decision\n",
      "3     rain        mild     high    weak        P\n",
      "4     rain        cool   normal    weak        P\n",
      "5     rain        cool   normal  storng        N\n",
      "9     rain        mild   normal    weak        P\n",
      "13    rain        mild     high  storng        N\n",
      "---------------\n",
      "---------------\n",
      "sunny\n",
      "---------------\n",
      "   Outlook Temperature Humidity   Windy Decision\n",
      "0    sunny         hot     high    weak        N\n",
      "1    sunny         hot     high  storng        N\n",
      "7    sunny        mild     high    weak        N\n",
      "8    sunny        cool   normal    weak        P\n",
      "10   sunny        mild   normal  storng        P\n",
      "---------------\n"
     ]
    }
   ],
   "source": [
    "for name, temp in df.groupby('Outlook'):\n",
    "    print('-' * 15)\n",
    "    print(name)\n",
    "    print('-' * 15)\n",
    "    print(temp)\n",
    "    print('-' * 15)"
   ]
  },
  {
   "cell_type": "code",
   "execution_count": 45,
   "metadata": {},
   "outputs": [
    {
     "data": {
      "text/html": [
       "<div>\n",
       "<style scoped>\n",
       "    .dataframe tbody tr th:only-of-type {\n",
       "        vertical-align: middle;\n",
       "    }\n",
       "\n",
       "    .dataframe tbody tr th {\n",
       "        vertical-align: top;\n",
       "    }\n",
       "\n",
       "    .dataframe thead th {\n",
       "        text-align: right;\n",
       "    }\n",
       "</style>\n",
       "<table border=\"1\" class=\"dataframe\">\n",
       "  <thead>\n",
       "    <tr style=\"text-align: right;\">\n",
       "      <th></th>\n",
       "      <th>Outlook</th>\n",
       "      <th>Temperature</th>\n",
       "      <th>Humidity</th>\n",
       "      <th>Windy</th>\n",
       "      <th>Decision</th>\n",
       "    </tr>\n",
       "  </thead>\n",
       "  <tbody>\n",
       "    <tr>\n",
       "      <td>0</td>\n",
       "      <td>sunny</td>\n",
       "      <td>hot</td>\n",
       "      <td>high</td>\n",
       "      <td>weak</td>\n",
       "      <td>N</td>\n",
       "    </tr>\n",
       "    <tr>\n",
       "      <td>1</td>\n",
       "      <td>sunny</td>\n",
       "      <td>hot</td>\n",
       "      <td>high</td>\n",
       "      <td>storng</td>\n",
       "      <td>N</td>\n",
       "    </tr>\n",
       "    <tr>\n",
       "      <td>3</td>\n",
       "      <td>rain</td>\n",
       "      <td>mild</td>\n",
       "      <td>high</td>\n",
       "      <td>weak</td>\n",
       "      <td>P</td>\n",
       "    </tr>\n",
       "    <tr>\n",
       "      <td>4</td>\n",
       "      <td>rain</td>\n",
       "      <td>cool</td>\n",
       "      <td>normal</td>\n",
       "      <td>weak</td>\n",
       "      <td>P</td>\n",
       "    </tr>\n",
       "    <tr>\n",
       "      <td>5</td>\n",
       "      <td>rain</td>\n",
       "      <td>cool</td>\n",
       "      <td>normal</td>\n",
       "      <td>storng</td>\n",
       "      <td>N</td>\n",
       "    </tr>\n",
       "    <tr>\n",
       "      <td>7</td>\n",
       "      <td>sunny</td>\n",
       "      <td>mild</td>\n",
       "      <td>high</td>\n",
       "      <td>weak</td>\n",
       "      <td>N</td>\n",
       "    </tr>\n",
       "    <tr>\n",
       "      <td>8</td>\n",
       "      <td>sunny</td>\n",
       "      <td>cool</td>\n",
       "      <td>normal</td>\n",
       "      <td>weak</td>\n",
       "      <td>P</td>\n",
       "    </tr>\n",
       "    <tr>\n",
       "      <td>9</td>\n",
       "      <td>rain</td>\n",
       "      <td>mild</td>\n",
       "      <td>normal</td>\n",
       "      <td>weak</td>\n",
       "      <td>P</td>\n",
       "    </tr>\n",
       "    <tr>\n",
       "      <td>10</td>\n",
       "      <td>sunny</td>\n",
       "      <td>mild</td>\n",
       "      <td>normal</td>\n",
       "      <td>storng</td>\n",
       "      <td>P</td>\n",
       "    </tr>\n",
       "    <tr>\n",
       "      <td>13</td>\n",
       "      <td>rain</td>\n",
       "      <td>mild</td>\n",
       "      <td>high</td>\n",
       "      <td>storng</td>\n",
       "      <td>N</td>\n",
       "    </tr>\n",
       "  </tbody>\n",
       "</table>\n",
       "</div>"
      ],
      "text/plain": [
       "   Outlook Temperature Humidity   Windy Decision\n",
       "0    sunny         hot     high    weak        N\n",
       "1    sunny         hot     high  storng        N\n",
       "3     rain        mild     high    weak        P\n",
       "4     rain        cool   normal    weak        P\n",
       "5     rain        cool   normal  storng        N\n",
       "7    sunny        mild     high    weak        N\n",
       "8    sunny        cool   normal    weak        P\n",
       "9     rain        mild   normal    weak        P\n",
       "10   sunny        mild   normal  storng        P\n",
       "13    rain        mild     high  storng        N"
      ]
     },
     "execution_count": 45,
     "metadata": {},
     "output_type": "execute_result"
    }
   ],
   "source": [
    "df_next = df.loc[df.Outlook != 'overcast']\n",
    "df_next"
   ]
  },
  {
   "cell_type": "code",
   "execution_count": 46,
   "metadata": {},
   "outputs": [],
   "source": [
    "df_sunny = df_next.loc[df_next.Outlook == 'sunny']"
   ]
  },
  {
   "cell_type": "code",
   "execution_count": 50,
   "metadata": {},
   "outputs": [
    {
     "data": {
      "text/plain": [
       "0.9709505944546686"
      ]
     },
     "execution_count": 50,
     "metadata": {},
     "output_type": "execute_result"
    }
   ],
   "source": [
    "entropy_decision = f_entropy_Decision(df_sunny)\n",
    "entropy_decision"
   ]
  },
  {
   "cell_type": "code",
   "execution_count": 51,
   "metadata": {},
   "outputs": [
    {
     "name": "stdout",
     "output_type": "stream",
     "text": [
      "Gain(Decision, Temperature) = 0.8281\n",
      "Gain(Decision, Humidity) = 0.9710\n",
      "Gain(Decision, Windy) = 0.6313\n"
     ]
    }
   ],
   "source": [
    "for col in df_sunny.columns[1:-1]:\n",
    "    print(f'Gain(Decision, {col}) = {IG(df_sunny, col, entropy_decision):0.4f}')"
   ]
  },
  {
   "cell_type": "code",
   "execution_count": 52,
   "metadata": {},
   "outputs": [
    {
     "name": "stdout",
     "output_type": "stream",
     "text": [
      "---------------\n",
      "high\n",
      "---------------\n",
      "  Outlook Temperature Humidity   Windy Decision\n",
      "0   sunny         hot     high    weak        N\n",
      "1   sunny         hot     high  storng        N\n",
      "7   sunny        mild     high    weak        N\n",
      "---------------\n",
      "---------------\n",
      "normal\n",
      "---------------\n",
      "   Outlook Temperature Humidity   Windy Decision\n",
      "8    sunny        cool   normal    weak        P\n",
      "10   sunny        mild   normal  storng        P\n",
      "---------------\n"
     ]
    }
   ],
   "source": [
    "for name, temp in df_sunny.groupby('Humidity'):\n",
    "    print('-' * 15)\n",
    "    print(name)\n",
    "    print('-' * 15)\n",
    "    print(temp)\n",
    "    print('-' * 15)"
   ]
  },
  {
   "cell_type": "code",
   "execution_count": 54,
   "metadata": {},
   "outputs": [
    {
     "data": {
      "text/plain": [
       "0.9709505944546686"
      ]
     },
     "execution_count": 54,
     "metadata": {},
     "output_type": "execute_result"
    }
   ],
   "source": [
    "df_rain = df_next.loc[df_next.Outlook == 'rain']\n",
    "entropy_decision = f_entropy_Decision(df_rain)\n",
    "entropy_decision"
   ]
  },
  {
   "cell_type": "code",
   "execution_count": 56,
   "metadata": {},
   "outputs": [
    {
     "name": "stdout",
     "output_type": "stream",
     "text": [
      "Gain(Decision, Temperature) = 0.6313\n",
      "Gain(Decision, Humidity) = 0.6313\n",
      "Gain(Decision, Windy) = 0.9710\n"
     ]
    }
   ],
   "source": [
    "for col in df_rain.columns[1:-1]:\n",
    "    print(f'Gain(Decision, {col}) = {IG(df_rain, col, entropy_decision):0.4f}')"
   ]
  },
  {
   "cell_type": "code",
   "execution_count": 57,
   "metadata": {},
   "outputs": [
    {
     "name": "stdout",
     "output_type": "stream",
     "text": [
      "---------------\n",
      "storng\n",
      "---------------\n",
      "   Outlook Temperature Humidity   Windy Decision\n",
      "5     rain        cool   normal  storng        N\n",
      "13    rain        mild     high  storng        N\n",
      "---------------\n",
      "---------------\n",
      "weak\n",
      "---------------\n",
      "  Outlook Temperature Humidity Windy Decision\n",
      "3    rain        mild     high  weak        P\n",
      "4    rain        cool   normal  weak        P\n",
      "9    rain        mild   normal  weak        P\n",
      "---------------\n"
     ]
    }
   ],
   "source": [
    "for name, temp in df_rain.groupby('Windy'):\n",
    "    print('-' * 15)\n",
    "    print(name)\n",
    "    print('-' * 15)\n",
    "    print(temp)\n",
    "    print('-' * 15)"
   ]
  },
  {
   "cell_type": "code",
   "execution_count": null,
   "metadata": {},
   "outputs": [],
   "source": []
  }
 ],
 "metadata": {
  "kernelspec": {
   "display_name": "Python 3",
   "language": "python",
   "name": "python3"
  },
  "language_info": {
   "codemirror_mode": {
    "name": "ipython",
    "version": 3
   },
   "file_extension": ".py",
   "mimetype": "text/x-python",
   "name": "python",
   "nbconvert_exporter": "python",
   "pygments_lexer": "ipython3",
   "version": "3.7.4"
  }
 },
 "nbformat": 4,
 "nbformat_minor": 4
}
